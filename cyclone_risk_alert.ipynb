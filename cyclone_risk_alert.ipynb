{
 "cells": [
  {
   "cell_type": "markdown",
   "id": "df409412",
   "metadata": {},
   "source": [
    "### Project title:\n",
    "CycloneRiskAlert: AI Based Early Warning System for Coastal Fishermen\n",
    "\n",
    "\n",
    "### Problem Statement:\n",
    "Coastal fishermen in India face life-threatening sea conditions due to distant cyclones even when no landfall occurs. This project fills the gap with a simple, AI-powered early alert system.\n",
    "\n",
    "### Description:\n",
    "CycloneRiskAlert is an AI based early warning system that detects offshore cyclone threats using real cyclone data (IBTrACS 2000–2024). It assesses risk based on wind speed, distance to coast, and storm nature, then triggers alerts for fishermen. is this good?"
   ]
  },
  {
   "cell_type": "code",
   "execution_count": 6,
   "id": "78836c7f",
   "metadata": {},
   "outputs": [
    {
     "name": "stdout",
     "output_type": "stream",
     "text": [
      "      NAME             ISO_TIME   LAT   LON NATURE  wind_kmph  DIST2LAND  \\\n",
      "0  UNNAMED  2000-03-27 12:00:00   7.5  90.0     TS       46.3        613   \n",
      "1  UNNAMED  2000-03-27 15:00:00   8.0  89.4     TS       46.3        695   \n",
      "2  UNNAMED  2000-03-27 18:00:00   8.5  89.0     TS       46.3        757   \n",
      "3  UNNAMED  2000-03-27 21:00:00   9.0  89.0     TS       46.3        783   \n",
      "4  UNNAMED  2000-03-28 00:00:00   9.5  89.0     TS       46.3        811   \n",
      "5  UNNAMED  2000-03-28 03:00:00  10.0  88.5     TS       46.3        784   \n",
      "6  UNNAMED  2000-03-28 06:00:00  10.7  88.2     TS       46.3        784   \n",
      "7  UNNAMED  2000-03-28 09:00:00  11.5  88.0     TS       46.3        802   \n",
      "8  UNNAMED  2000-03-28 12:00:00  12.0  88.0     TS       46.3        801   \n",
      "9  UNNAMED  2000-03-28 15:00:00  12.0  88.0     TS       46.3        801   \n",
      "\n",
      "  SUBBASIN  \n",
      "0       BB  \n",
      "1       BB  \n",
      "2       BB  \n",
      "3       BB  \n",
      "4       BB  \n",
      "5       BB  \n",
      "6       BB  \n",
      "7       BB  \n",
      "8       BB  \n",
      "9       BB  \n"
     ]
    }
   ],
   "source": [
    "import pandas as pd\n",
    "\n",
    "\n",
    "df = pd.read_csv('cyclone_data_clean_2000_2024.csv')\n",
    "\n",
    "\n",
    "print(df.head(10))\n"
   ]
  },
  {
   "cell_type": "code",
   "execution_count": 7,
   "id": "9d2300a0",
   "metadata": {},
   "outputs": [
    {
     "name": "stdout",
     "output_type": "stream",
     "text": [
      "<class 'pandas.core.frame.DataFrame'>\n",
      "RangeIndex: 5648 entries, 0 to 5647\n",
      "Data columns (total 8 columns):\n",
      " #   Column     Non-Null Count  Dtype  \n",
      "---  ------     --------------  -----  \n",
      " 0   NAME       5648 non-null   object \n",
      " 1   ISO_TIME   5648 non-null   object \n",
      " 2   LAT        5648 non-null   float64\n",
      " 3   LON        5648 non-null   float64\n",
      " 4   NATURE     5648 non-null   object \n",
      " 5   wind_kmph  5648 non-null   float64\n",
      " 6   DIST2LAND  5648 non-null   int64  \n",
      " 7   SUBBASIN   5648 non-null   object \n",
      "dtypes: float64(3), int64(1), object(4)\n",
      "memory usage: 353.1+ KB\n"
     ]
    },
    {
     "data": {
      "text/plain": [
       "NAME         0\n",
       "ISO_TIME     0\n",
       "LAT          0\n",
       "LON          0\n",
       "NATURE       0\n",
       "wind_kmph    0\n",
       "DIST2LAND    0\n",
       "SUBBASIN     0\n",
       "dtype: int64"
      ]
     },
     "execution_count": 7,
     "metadata": {},
     "output_type": "execute_result"
    }
   ],
   "source": [
    "df.info()\n",
    "df.describe()\n",
    "df.isnull().sum()"
   ]
  },
  {
   "cell_type": "code",
   "execution_count": 8,
   "id": "093e014c",
   "metadata": {},
   "outputs": [
    {
     "name": "stdout",
     "output_type": "stream",
     "text": [
      "LAT range: 1.9 to 28.7\n",
      "LON range: 42.9 to 99.8\n"
     ]
    }
   ],
   "source": [
    "print(\"LAT range:\", df['LAT'].min(), \"to\", df['LAT'].max())\n",
    "print(\"LON range:\", df['LON'].min(), \"to\", df['LON'].max())"
   ]
  },
  {
   "cell_type": "code",
   "execution_count": 9,
   "id": "93676d96",
   "metadata": {},
   "outputs": [
    {
     "name": "stdout",
     "output_type": "stream",
     "text": [
      "count    5648.000000\n",
      "mean       71.431522\n",
      "std        38.202982\n",
      "min         5.556000\n",
      "25%        46.300000\n",
      "50%        55.560000\n",
      "75%        83.340000\n",
      "max       240.760000\n",
      "Name: wind_kmph, dtype: float64\n"
     ]
    }
   ],
   "source": [
    "print(df['wind_kmph'].describe())"
   ]
  },
  {
   "cell_type": "code",
   "execution_count": 10,
   "id": "e5374339",
   "metadata": {},
   "outputs": [
    {
     "name": "stdout",
     "output_type": "stream",
     "text": [
      "Year range: 2000 to 2023\n"
     ]
    }
   ],
   "source": [
    "df['ISO_TIME'] = pd.to_datetime(df['ISO_TIME'])\n",
    "print(\"Year range:\", df['ISO_TIME'].dt.year.min(), \"to\", df['ISO_TIME'].dt.year.max())"
   ]
  },
  {
   "cell_type": "code",
   "execution_count": null,
   "id": "757fc063",
   "metadata": {},
   "outputs": [],
   "source": []
  }
 ],
 "metadata": {
  "kernelspec": {
   "display_name": "Python 3",
   "language": "python",
   "name": "python3"
  },
  "language_info": {
   "codemirror_mode": {
    "name": "ipython",
    "version": 3
   },
   "file_extension": ".py",
   "mimetype": "text/x-python",
   "name": "python",
   "nbconvert_exporter": "python",
   "pygments_lexer": "ipython3",
   "version": "3.11.9"
  }
 },
 "nbformat": 4,
 "nbformat_minor": 5
}
