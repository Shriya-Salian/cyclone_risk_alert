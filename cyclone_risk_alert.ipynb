{
 "cells": [
  {
   "cell_type": "code",
   "execution_count": 2,
   "id": "78836c7f",
   "metadata": {},
   "outputs": [],
   "source": [
    "import pandas as pd\n",
    "\n",
    "# Load the cleaned dataset\n",
    "df = pd.read_csv('cyclone_data_clean_2000_2024.csv')\n",
    "\n",
    "# Convert ISO_TIME to datetime\n",
    "df['ISO_TIME'] = pd.to_datetime(df['ISO_TIME'])\n",
    "\n",
    
   ]
  },
  {
   "cell_type": "code",
   "execution_count": 6,
   "id": "9d2300a0",
   "metadata": {},
   "outputs": [
    {
     "name": "stdout",
     "output_type": "stream",
     "text": [
      "<class 'pandas.core.frame.DataFrame'>\n",
      "RangeIndex: 5648 entries, 0 to 5647\n",
      "Data columns (total 8 columns):\n",
      " #   Column     Non-Null Count  Dtype         \n",
      "---  ------     --------------  -----         \n",
      " 0   NAME       5648 non-null   object        \n",
      " 1   ISO_TIME   5648 non-null   datetime64[ns]\n",
      " 2   LAT        5648 non-null   float64       \n",
      " 3   LON        5648 non-null   float64       \n",
      " 4   NATURE     5648 non-null   object        \n",
      " 5   wind_kmph  5648 non-null   float64       \n",
      " 6   DIST2LAND  5648 non-null   int64         \n",
      " 7   SUBBASIN   5648 non-null   object        \n",
      "dtypes: datetime64[ns](1), float64(3), int64(1), object(3)\n",
      "memory usage: 353.1+ KB\n"
     ]
    },
    {
     "data": {
      "text/plain": [
       "NAME         0\n",
       "ISO_TIME     0\n",
       "LAT          0\n",
       "LON          0\n",
       "NATURE       0\n",
       "wind_kmph    0\n",
       "DIST2LAND    0\n",
       "SUBBASIN     0\n",
       "dtype: int64"
      ]
     },
     "execution_count": 6,
     "metadata": {},
     "output_type": "execute_result"
    }
   ],
   "source": [
    "df.info()\n",
    "df.describe()\n",
    "df.isnull().sum()"
   ]
  },
  {
   "cell_type": "code",
   "execution_count": null,
   "id": "093e014c",
   "metadata": {},
   "outputs": [],
   "source": []
  }
 ],
 "metadata": {
  "kernelspec": {
   "display_name": "Python 3",
   "language": "python",
   "name": "python3"
  },
  "language_info": {
   "codemirror_mode": {
    "name": "ipython",
    "version": 3
   },
   "file_extension": ".py",
   "mimetype": "text/x-python",
   "name": "python",
   "nbconvert_exporter": "python",
   "pygments_lexer": "ipython3",
   "version": "3.11.9"
  }
 },
 "nbformat": 4,
 "nbformat_minor": 5
}
